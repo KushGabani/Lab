{
  "nbformat": 4,
  "nbformat_minor": 0,
  "metadata": {
    "colab": {
      "name": "Script-Generation-using-LSTMs",
      "provenance": [],
      "collapsed_sections": [],
      "mount_file_id": "1RuolxiuHm60Xm9C-X4OtcT5scWTtwFWQ",
      "authorship_tag": "ABX9TyOP9CQE2ORZqyP2J10EU9Ig",
      "include_colab_link": true
    },
    "kernelspec": {
      "display_name": "Python 3",
      "name": "python3"
    },
    "accelerator": "GPU"
  },
  "cells": [
    {
      "cell_type": "markdown",
      "metadata": {
        "id": "view-in-github",
        "colab_type": "text"
      },
      "source": [
        "<a href=\"https://colab.research.google.com/github/KushGabani/Lab-Assignments/blob/main/Script_Generation_using_LSTMs.ipynb\" target=\"_parent\"><img src=\"https://colab.research.google.com/assets/colab-badge.svg\" alt=\"Open In Colab\"/></a>"
      ]
    },
    {
      "cell_type": "code",
      "metadata": {
        "id": "oNbgzxRKhNMP"
      },
      "source": [
        "%tensorflow_version 2.x\n",
        "import io\n",
        "import os\n",
        "import sys\n",
        "import warnings\n",
        "import shutil\n",
        "import numpy as np\n",
        "import matplotlib.pyplot as plt\n",
        "from matplotlib import cycler\n",
        "import tensorflow as tf\n",
        "from tensorflow.keras.preprocessing.text import Tokenizer\n",
        "from tensorflow.keras.utils import to_categorical\n",
        "from tensorflow.keras.models import Sequential\n",
        "from tensorflow.keras.layers import Dense, LSTM, Embedding\n",
        "from keras.optimizers import Adam, RMSprop, SGD\n",
        "from keras.callbacks import ModelCheckpoint\n",
        "from tensorflow.keras.preprocessing.sequence import pad_sequences\n",
        " \n",
        " \n",
        "try:\n",
        "  shutil.rmtree(\"./sample_data\")\n",
        "except:\n",
        "  pass"
      ],
      "execution_count": null,
      "outputs": []
    },
    {
      "cell_type": "code",
      "metadata": {
        "colab": {
          "base_uri": "https://localhost:8080/"
        },
        "id": "ZtmBRokzhXMD",
        "outputId": "a0ea9f61-3c8e-4291-c88e-a7a4ed8c7143"
      },
      "source": [
        "with io.open(\"./drive/MyDrive/moes_tavern_lines.txt\", encoding = \"utf-8-sig\") as f:\r\n",
        "  text = f.read().lower()\r\n",
        "\r\n",
        "print(\"Sample training data :\\n\")\r\n",
        "text = text[81:]\r\n",
        "print(text[:500])"
      ],
      "execution_count": null,
      "outputs": [
        {
          "output_type": "stream",
          "text": [
            "Sample training data :\n",
            "\n",
            "moe_szyslak: (into phone) moe's tavern. where the elite meet to drink.\n",
            "bart_simpson: eh, yeah, hello, is mike there? last name, rotch.\n",
            "moe_szyslak: (into phone) hold on, i'll check. (to barflies) mike rotch. mike rotch. hey, has anybody seen mike rotch, lately?\n",
            "moe_szyslak: (into phone) listen you little puke. one of these days i'm gonna catch you, and i'm gonna carve my name on your back with an ice pick.\n",
            "moe_szyslak: what's the matter homer? you're not your normal effervescent self.\n",
            "homer_simp\n"
          ],
          "name": "stdout"
        }
      ]
    },
    {
      "cell_type": "code",
      "metadata": {
        "colab": {
          "base_uri": "https://localhost:8080/"
        },
        "id": "LqDSNvgWhiXI",
        "outputId": "beef4638-3e25-4831-d013-e9b3e4383aae"
      },
      "source": [
        "data = text.split(\"\\n\")\r\n",
        "print(data[0])\r\n",
        "data = \" \".join(data)\r\n",
        "print(data[:100])"
      ],
      "execution_count": null,
      "outputs": [
        {
          "output_type": "stream",
          "text": [
            "moe_szyslak: (into phone) moe's tavern. where the elite meet to drink.\n",
            "moe_szyslak: (into phone) moe's tavern. where the elite meet to drink. bart_simpson: eh, yeah, hello\n"
          ],
          "name": "stdout"
        }
      ]
    },
    {
      "cell_type": "code",
      "metadata": {
        "colab": {
          "base_uri": "https://localhost:8080/"
        },
        "id": "qnIsIW01NUiR",
        "outputId": "99352d16-9fdc-495c-d5e9-53c944619003"
      },
      "source": [
        "len(data)"
      ],
      "execution_count": null,
      "outputs": [
        {
          "output_type": "execute_result",
          "data": {
            "text/plain": [
              "305189"
            ]
          },
          "metadata": {
            "tags": []
          },
          "execution_count": 4
        }
      ]
    },
    {
      "cell_type": "code",
      "metadata": {
        "colab": {
          "base_uri": "https://localhost:8080/"
        },
        "id": "eDREa1fvh8sh",
        "outputId": "bb2ecf30-82e7-4413-fc13-8720f06531b4"
      },
      "source": [
        "punctuations = {\r\n",
        "    '.' : \"period\", \r\n",
        "    '[' : \"leftbraces\",\r\n",
        "    ']' : \"rightbraces\",\r\n",
        "    '(' : \"leftparen\",\r\n",
        "    ')' : \"rightparen\",\r\n",
        "    ';' : \"semicolon\",\r\n",
        "    '$' : \"price\",\r\n",
        "    '%' : \"percentage\",\r\n",
        "    '&' : \"and\",\r\n",
        "    '#' : \"hash\",\r\n",
        "    '\\n' : \"newline\",\r\n",
        "    ':' : \"colon\", \r\n",
        "    \"'\" : \"apostrophe\",\r\n",
        "    '/' : \"or\",\r\n",
        "    '\"' : \"quote\",\r\n",
        "    ',' : \"comma\",\r\n",
        "    '?' : \"question\",\r\n",
        "    '*' : \"asterisk\",\r\n",
        "    '!' : \"exclamation\",\r\n",
        "    '-' : \"hyphen\",\r\n",
        "}\r\n",
        "\r\n",
        "def preprocess_text(text):\r\n",
        "  for punc, alt in punctuations.items():\r\n",
        "    text = text.replace(punc, ' ' + alt + ' ')\r\n",
        "  text = text.replace(\"\\n\", punctuations[\"\\n\"])\r\n",
        "  tokens = text.split()\r\n",
        "  return tokens\r\n",
        "\r\n",
        "tokens = preprocess_text(text)\r\n",
        "print(tokens[:101])"
      ],
      "execution_count": null,
      "outputs": [
        {
          "output_type": "stream",
          "text": [
            "['moe_szyslak', 'colon', 'leftparen', 'into', 'phone', 'rightparen', 'moe', 'apostrophe', 's', 'tavern', 'period', 'where', 'the', 'elite', 'meet', 'to', 'drink', 'period', 'newline', 'bart_simpson', 'colon', 'eh', 'comma', 'yeah', 'comma', 'hello', 'comma', 'is', 'mike', 'there', 'question', 'last', 'name', 'comma', 'rotch', 'period', 'newline', 'moe_szyslak', 'colon', 'leftparen', 'into', 'phone', 'rightparen', 'hold', 'on', 'comma', 'i', 'apostrophe', 'll', 'check', 'period', 'leftparen', 'to', 'barflies', 'rightparen', 'mike', 'rotch', 'period', 'mike', 'rotch', 'period', 'hey', 'comma', 'has', 'anybody', 'seen', 'mike', 'rotch', 'comma', 'lately', 'question', 'newline', 'moe_szyslak', 'colon', 'leftparen', 'into', 'phone', 'rightparen', 'listen', 'you', 'little', 'puke', 'period', 'one', 'of', 'these', 'days', 'i', 'apostrophe', 'm', 'gonna', 'catch', 'you', 'comma', 'and', 'i', 'apostrophe', 'm', 'gonna', 'carve', 'my']\n"
          ],
          "name": "stdout"
        }
      ]
    },
    {
      "cell_type": "code",
      "metadata": {
        "colab": {
          "base_uri": "https://localhost:8080/"
        },
        "id": "rQPgCfnSM3U3",
        "outputId": "4428a0d7-007b-4d7a-a347-eca67e941865"
      },
      "source": [
        "len(tokens)"
      ],
      "execution_count": null,
      "outputs": [
        {
          "output_type": "execute_result",
          "data": {
            "text/plain": [
              "79756"
            ]
          },
          "metadata": {
            "tags": []
          },
          "execution_count": 6
        }
      ]
    },
    {
      "cell_type": "code",
      "metadata": {
        "colab": {
          "base_uri": "https://localhost:8080/"
        },
        "id": "6iE8JOAeilyu",
        "outputId": "524386df-ec1f-4c64-9edf-8abbcbb90c71"
      },
      "source": [
        "print(\"length of tokens : \" + str(len(tokens)))\r\n",
        "print(\"number of unique tokens : \" + str(len(set(tokens))))"
      ],
      "execution_count": null,
      "outputs": [
        {
          "output_type": "stream",
          "text": [
            "length of tokens : 79756\n",
            "number of unique tokens : 6355\n"
          ],
          "name": "stdout"
        }
      ]
    },
    {
      "cell_type": "code",
      "metadata": {
        "colab": {
          "base_uri": "https://localhost:8080/"
        },
        "id": "0mrG0Np2isuB",
        "outputId": "d079d506-9e65-4904-8613-3714225392e6"
      },
      "source": [
        "sequence_length = 50 + 1\r\n",
        "lines = []\r\n",
        "\r\n",
        "for i in range(sequence_length, len(tokens)):\r\n",
        "  sequence = tokens[i - sequence_length : i]\r\n",
        "  lines.append(' '.join(sequence))\r\n",
        "\r\n",
        "print(len(lines))"
      ],
      "execution_count": null,
      "outputs": [
        {
          "output_type": "stream",
          "text": [
            "79705\n"
          ],
          "name": "stdout"
        }
      ]
    },
    {
      "cell_type": "code",
      "metadata": {
        "colab": {
          "base_uri": "https://localhost:8080/"
        },
        "id": "Dfy-R04CplQ4",
        "outputId": "38d164dc-13c1-4fc0-e580-5e8e400b673a"
      },
      "source": [
        "len(lines[23].split())"
      ],
      "execution_count": null,
      "outputs": [
        {
          "output_type": "execute_result",
          "data": {
            "text/plain": [
              "51"
            ]
          },
          "metadata": {
            "tags": []
          },
          "execution_count": 9
        }
      ]
    },
    {
      "cell_type": "code",
      "metadata": {
        "colab": {
          "base_uri": "https://localhost:8080/"
        },
        "id": "iuCq_NNvjP4m",
        "outputId": "9138b66b-8a8d-4ff8-ab6d-962f6a3911fb"
      },
      "source": [
        "tokenizer = Tokenizer()\r\n",
        "tokenizer.fit_on_texts(lines)\r\n",
        "sequences = tokenizer.texts_to_sequences(lines)\r\n",
        "sequences = pad_sequences(sequences, maxlen = sequence_length, truncating='pre')\r\n",
        "len(sequences[0])"
      ],
      "execution_count": null,
      "outputs": [
        {
          "output_type": "execute_result",
          "data": {
            "text/plain": [
              "51"
            ]
          },
          "metadata": {
            "tags": []
          },
          "execution_count": 10
        }
      ]
    },
    {
      "cell_type": "code",
      "metadata": {
        "id": "T2p8c-UCjiN2",
        "colab": {
          "base_uri": "https://localhost:8080/"
        },
        "outputId": "b603ba10-6208-4975-e9c4-b8e74db2bbed"
      },
      "source": [
        "sequences = np.array(sequences)\r\n",
        "x, y = sequences[:, :-1], sequences[:, -1]\r\n",
        "sequence_length = x.shape[1]\r\n",
        "sequence_length"
      ],
      "execution_count": null,
      "outputs": [
        {
          "output_type": "execute_result",
          "data": {
            "text/plain": [
              "50"
            ]
          },
          "metadata": {
            "tags": []
          },
          "execution_count": 11
        }
      ]
    },
    {
      "cell_type": "code",
      "metadata": {
        "id": "nNbsEwgxlKm7",
        "colab": {
          "base_uri": "https://localhost:8080/"
        },
        "outputId": "9895685c-51ee-474b-c8bd-c4c8419fcb01"
      },
      "source": [
        "vocab_size = len(tokenizer.word_index) + 1\r\n",
        "y = to_categorical(y, num_classes=vocab_size)\r\n",
        "vocab_size"
      ],
      "execution_count": null,
      "outputs": [
        {
          "output_type": "execute_result",
          "data": {
            "text/plain": [
              "6259"
            ]
          },
          "metadata": {
            "tags": []
          },
          "execution_count": 12
        }
      ]
    },
    {
      "cell_type": "code",
      "metadata": {
        "colab": {
          "base_uri": "https://localhost:8080/"
        },
        "id": "DFbKVxRwlUSL",
        "outputId": "7495acd3-41f0-4251-db61-dc6da634010e"
      },
      "source": [
        "model = Sequential()\r\n",
        "model.add(Embedding(vocab_size, 50, input_length=x.shape[1]))\r\n",
        "model.add(LSTM(256))\r\n",
        "model.add(Dense(128, activation='relu'))\r\n",
        "model.add(Dense(vocab_size, activation='softmax'))\r\n",
        "\r\n",
        "model.compile(loss = 'categorical_crossentropy', optimizer = 'adam', metrics = ['accuracy'])\r\n",
        "model.summary()"
      ],
      "execution_count": null,
      "outputs": [
        {
          "output_type": "stream",
          "text": [
            "Model: \"sequential\"\n",
            "_________________________________________________________________\n",
            "Layer (type)                 Output Shape              Param #   \n",
            "=================================================================\n",
            "embedding (Embedding)        (None, 50, 50)            312950    \n",
            "_________________________________________________________________\n",
            "lstm (LSTM)                  (None, 256)               314368    \n",
            "_________________________________________________________________\n",
            "dense (Dense)                (None, 128)               32896     \n",
            "_________________________________________________________________\n",
            "dense_1 (Dense)              (None, 6259)              807411    \n",
            "=================================================================\n",
            "Total params: 1,467,625\n",
            "Trainable params: 1,467,625\n",
            "Non-trainable params: 0\n",
            "_________________________________________________________________\n"
          ],
          "name": "stdout"
        }
      ]
    },
    {
      "cell_type": "code",
      "metadata": {
        "colab": {
          "base_uri": "https://localhost:8080/",
          "height": 1000
        },
        "id": "mE86vMpQqfVv",
        "outputId": "6a21fb01-891e-4521-9610-0bff704b7154"
      },
      "source": [
        "filepath = \"drive/MyDrive/script-generation-sample/word-level-trial/weights-{epoch:02d}.hdf5\"\r\n",
        "checkpoint = ModelCheckpoint(filepath,\r\n",
        "                             monitor = \"loss\",\r\n",
        "                             mode = \"min\",\r\n",
        "                             verbose = 1,\r\n",
        "                             save_best_only=True)\r\n",
        "\r\n",
        "callbacks_list = [checkpoint]\r\n",
        "history = model.fit(x, y, epochs = 180, batch_size = 128)"
      ],
      "execution_count": null,
      "outputs": [
        {
          "output_type": "stream",
          "text": [
            "Epoch 1/180\n",
            "623/623 [==============================] - 16s 14ms/step - loss: 6.0071 - accuracy: 0.0837\n",
            "Epoch 2/180\n",
            "623/623 [==============================] - 8s 14ms/step - loss: 4.7573 - accuracy: 0.2503\n",
            "Epoch 3/180\n",
            "623/623 [==============================] - 9s 14ms/step - loss: 4.2709 - accuracy: 0.3185\n",
            "Epoch 4/180\n",
            "623/623 [==============================] - 9s 14ms/step - loss: 3.9710 - accuracy: 0.3372\n",
            "Epoch 5/180\n",
            "623/623 [==============================] - 9s 14ms/step - loss: 3.9028 - accuracy: 0.3393\n",
            "Epoch 6/180\n",
            "623/623 [==============================] - 9s 14ms/step - loss: 3.6798 - accuracy: 0.3587\n",
            "Epoch 7/180\n",
            "623/623 [==============================] - 9s 14ms/step - loss: 3.5477 - accuracy: 0.3678\n",
            "Epoch 8/180\n",
            "623/623 [==============================] - 9s 14ms/step - loss: 3.4496 - accuracy: 0.3734\n",
            "Epoch 9/180\n",
            "623/623 [==============================] - 9s 14ms/step - loss: 3.3158 - accuracy: 0.3847\n",
            "Epoch 10/180\n",
            "623/623 [==============================] - 9s 14ms/step - loss: 3.2348 - accuracy: 0.3901\n",
            "Epoch 11/180\n",
            "623/623 [==============================] - 9s 14ms/step - loss: 3.1259 - accuracy: 0.3964\n",
            "Epoch 12/180\n",
            "623/623 [==============================] - 9s 14ms/step - loss: 2.9949 - accuracy: 0.4061\n",
            "Epoch 13/180\n",
            "623/623 [==============================] - 9s 14ms/step - loss: 2.8779 - accuracy: 0.4192\n",
            "Epoch 14/180\n",
            "623/623 [==============================] - 9s 14ms/step - loss: 2.7326 - accuracy: 0.4351\n",
            "Epoch 15/180\n",
            "623/623 [==============================] - 9s 14ms/step - loss: 2.6285 - accuracy: 0.4456\n",
            "Epoch 16/180\n",
            "623/623 [==============================] - 9s 14ms/step - loss: 2.5009 - accuracy: 0.4637\n",
            "Epoch 17/180\n",
            "623/623 [==============================] - 9s 14ms/step - loss: 2.3656 - accuracy: 0.4860\n",
            "Epoch 18/180\n",
            "623/623 [==============================] - 9s 14ms/step - loss: 2.2298 - accuracy: 0.5061\n",
            "Epoch 19/180\n",
            "623/623 [==============================] - 9s 14ms/step - loss: 2.1162 - accuracy: 0.5252\n",
            "Epoch 20/180\n",
            "623/623 [==============================] - 9s 14ms/step - loss: 2.0027 - accuracy: 0.5454\n",
            "Epoch 21/180\n",
            "623/623 [==============================] - 9s 15ms/step - loss: 1.8999 - accuracy: 0.5612\n",
            "Epoch 22/180\n",
            "623/623 [==============================] - 9s 14ms/step - loss: 1.7948 - accuracy: 0.5846\n",
            "Epoch 23/180\n",
            "623/623 [==============================] - 9s 14ms/step - loss: 1.6957 - accuracy: 0.6028\n",
            "Epoch 24/180\n",
            "623/623 [==============================] - 9s 14ms/step - loss: 1.6032 - accuracy: 0.6222\n",
            "Epoch 25/180\n",
            "623/623 [==============================] - 9s 14ms/step - loss: 1.5071 - accuracy: 0.6407\n",
            "Epoch 26/180\n",
            "623/623 [==============================] - 9s 14ms/step - loss: 1.4358 - accuracy: 0.6545\n",
            "Epoch 27/180\n",
            "623/623 [==============================] - 9s 14ms/step - loss: 1.3509 - accuracy: 0.6744\n",
            "Epoch 28/180\n",
            "623/623 [==============================] - 9s 14ms/step - loss: 1.2633 - accuracy: 0.6938\n",
            "Epoch 29/180\n",
            "623/623 [==============================] - 9s 14ms/step - loss: 1.1944 - accuracy: 0.7098\n",
            "Epoch 30/180\n",
            "623/623 [==============================] - 9s 14ms/step - loss: 1.1469 - accuracy: 0.7215\n",
            "Epoch 31/180\n",
            "623/623 [==============================] - 9s 14ms/step - loss: 1.0770 - accuracy: 0.7364\n",
            "Epoch 32/180\n",
            "623/623 [==============================] - 9s 14ms/step - loss: 1.0141 - accuracy: 0.7504\n",
            "Epoch 33/180\n",
            "623/623 [==============================] - 9s 14ms/step - loss: 0.9573 - accuracy: 0.7657\n",
            "Epoch 34/180\n",
            "623/623 [==============================] - 9s 14ms/step - loss: 0.9023 - accuracy: 0.7791\n",
            "Epoch 35/180\n",
            "623/623 [==============================] - 9s 14ms/step - loss: 0.8490 - accuracy: 0.7904\n",
            "Epoch 36/180\n",
            "623/623 [==============================] - 9s 14ms/step - loss: 0.8037 - accuracy: 0.8037\n",
            "Epoch 37/180\n",
            "623/623 [==============================] - 9s 14ms/step - loss: 0.7539 - accuracy: 0.8146\n",
            "Epoch 38/180\n",
            "623/623 [==============================] - 9s 14ms/step - loss: 0.7128 - accuracy: 0.8235\n",
            "Epoch 39/180\n",
            "623/623 [==============================] - 9s 14ms/step - loss: 0.6656 - accuracy: 0.8357\n",
            "Epoch 40/180\n",
            "623/623 [==============================] - 9s 14ms/step - loss: 0.6359 - accuracy: 0.8421\n",
            "Epoch 41/180\n",
            "623/623 [==============================] - 9s 14ms/step - loss: 0.5999 - accuracy: 0.8521\n",
            "Epoch 42/180\n",
            "623/623 [==============================] - 9s 14ms/step - loss: 0.5651 - accuracy: 0.8584\n",
            "Epoch 43/180\n",
            "623/623 [==============================] - 9s 14ms/step - loss: 0.5295 - accuracy: 0.8699\n",
            "Epoch 44/180\n",
            "623/623 [==============================] - 9s 14ms/step - loss: 0.4985 - accuracy: 0.8751\n",
            "Epoch 45/180\n",
            "623/623 [==============================] - 9s 14ms/step - loss: 0.4736 - accuracy: 0.8820\n",
            "Epoch 46/180\n",
            "623/623 [==============================] - 9s 14ms/step - loss: 0.4596 - accuracy: 0.8849\n",
            "Epoch 47/180\n",
            "623/623 [==============================] - 9s 14ms/step - loss: 0.4211 - accuracy: 0.8957\n",
            "Epoch 48/180\n",
            "623/623 [==============================] - 9s 14ms/step - loss: 0.4101 - accuracy: 0.8965\n",
            "Epoch 49/180\n",
            "623/623 [==============================] - 9s 14ms/step - loss: 0.3872 - accuracy: 0.9038\n",
            "Epoch 50/180\n",
            "623/623 [==============================] - 9s 14ms/step - loss: 0.3640 - accuracy: 0.9088\n",
            "Epoch 51/180\n",
            "623/623 [==============================] - 9s 14ms/step - loss: 0.3462 - accuracy: 0.9130\n",
            "Epoch 52/180\n",
            "623/623 [==============================] - 9s 14ms/step - loss: 0.3317 - accuracy: 0.9169\n",
            "Epoch 53/180\n",
            "623/623 [==============================] - 9s 14ms/step - loss: 0.3137 - accuracy: 0.9207\n",
            "Epoch 54/180\n",
            "623/623 [==============================] - 9s 14ms/step - loss: 0.2930 - accuracy: 0.9274\n",
            "Epoch 55/180\n",
            "623/623 [==============================] - 9s 14ms/step - loss: 0.2797 - accuracy: 0.9281\n",
            "Epoch 56/180\n",
            "623/623 [==============================] - 9s 14ms/step - loss: 0.2828 - accuracy: 0.9266\n",
            "Epoch 57/180\n",
            "623/623 [==============================] - 9s 15ms/step - loss: 0.2757 - accuracy: 0.9287\n",
            "Epoch 58/180\n",
            "623/623 [==============================] - 9s 14ms/step - loss: 0.2439 - accuracy: 0.9380\n",
            "Epoch 59/180\n",
            "623/623 [==============================] - 9s 14ms/step - loss: 0.2250 - accuracy: 0.9440\n",
            "Epoch 60/180\n",
            "623/623 [==============================] - 9s 14ms/step - loss: 0.2239 - accuracy: 0.9428\n",
            "Epoch 61/180\n",
            "623/623 [==============================] - 9s 14ms/step - loss: 0.2329 - accuracy: 0.9386\n",
            "Epoch 62/180\n",
            "623/623 [==============================] - 9s 14ms/step - loss: 0.2138 - accuracy: 0.9439\n",
            "Epoch 63/180\n",
            "623/623 [==============================] - 9s 14ms/step - loss: 0.2001 - accuracy: 0.9488\n",
            "Epoch 64/180\n",
            "623/623 [==============================] - 9s 14ms/step - loss: 0.2056 - accuracy: 0.9457\n",
            "Epoch 65/180\n",
            "623/623 [==============================] - 9s 14ms/step - loss: 0.1874 - accuracy: 0.9516\n",
            "Epoch 66/180\n",
            "623/623 [==============================] - 9s 14ms/step - loss: 0.1779 - accuracy: 0.9546\n",
            "Epoch 67/180\n",
            "623/623 [==============================] - 9s 14ms/step - loss: 0.1809 - accuracy: 0.9508\n",
            "Epoch 68/180\n",
            "623/623 [==============================] - 9s 14ms/step - loss: 0.1817 - accuracy: 0.9510\n",
            "Epoch 69/180\n",
            "623/623 [==============================] - 9s 14ms/step - loss: 0.1647 - accuracy: 0.9552\n",
            "Epoch 70/180\n",
            "623/623 [==============================] - 9s 14ms/step - loss: 0.1481 - accuracy: 0.9622\n",
            "Epoch 71/180\n",
            "125/623 [=====>........................] - ETA: 6s - loss: 0.1368 - accuracy: 0.9653"
          ],
          "name": "stdout"
        },
        {
          "output_type": "stream",
          "text": [
            "ERROR:root:Internal Python error in the inspect module.\n",
            "Below is the traceback from this internal error.\n",
            "\n"
          ],
          "name": "stderr"
        },
        {
          "output_type": "stream",
          "text": [
            "Traceback (most recent call last):\n",
            "  File \"/usr/local/lib/python3.6/dist-packages/IPython/core/interactiveshell.py\", line 2882, in run_code\n",
            "    exec(code_obj, self.user_global_ns, self.user_ns)\n",
            "  File \"<ipython-input-15-8d85d16e07b0>\", line 9, in <module>\n",
            "    history = model.fit(x, y, epochs = 180, batch_size = 128)\n",
            "  File \"/usr/local/lib/python3.6/dist-packages/tensorflow/python/keras/engine/training.py\", line 1100, in fit\n",
            "    tmp_logs = self.train_function(iterator)\n",
            "  File \"/usr/local/lib/python3.6/dist-packages/tensorflow/python/eager/def_function.py\", line 828, in __call__\n",
            "    result = self._call(*args, **kwds)\n",
            "  File \"/usr/local/lib/python3.6/dist-packages/tensorflow/python/eager/def_function.py\", line 855, in _call\n",
            "    return self._stateless_fn(*args, **kwds)  # pylint: disable=not-callable\n",
            "  File \"/usr/local/lib/python3.6/dist-packages/tensorflow/python/eager/function.py\", line 2943, in __call__\n",
            "    filtered_flat_args, captured_inputs=graph_function.captured_inputs)  # pylint: disable=protected-access\n",
            "  File \"/usr/local/lib/python3.6/dist-packages/tensorflow/python/eager/function.py\", line 1919, in _call_flat\n",
            "    ctx, args, cancellation_manager=cancellation_manager))\n",
            "  File \"/usr/local/lib/python3.6/dist-packages/tensorflow/python/eager/function.py\", line 560, in call\n",
            "    ctx=ctx)\n",
            "  File \"/usr/local/lib/python3.6/dist-packages/tensorflow/python/eager/execute.py\", line 60, in quick_execute\n",
            "    inputs, attrs, num_outputs)\n",
            "KeyboardInterrupt\n",
            "\n",
            "During handling of the above exception, another exception occurred:\n",
            "\n",
            "Traceback (most recent call last):\n",
            "  File \"/usr/local/lib/python3.6/dist-packages/IPython/core/interactiveshell.py\", line 1823, in showtraceback\n",
            "    stb = value._render_traceback_()\n",
            "AttributeError: 'KeyboardInterrupt' object has no attribute '_render_traceback_'\n",
            "\n",
            "During handling of the above exception, another exception occurred:\n",
            "\n",
            "Traceback (most recent call last):\n",
            "  File \"/usr/local/lib/python3.6/dist-packages/IPython/core/ultratb.py\", line 1132, in get_records\n",
            "    return _fixed_getinnerframes(etb, number_of_lines_of_context, tb_offset)\n",
            "  File \"/usr/local/lib/python3.6/dist-packages/IPython/core/ultratb.py\", line 313, in wrapped\n",
            "    return f(*args, **kwargs)\n",
            "  File \"/usr/local/lib/python3.6/dist-packages/IPython/core/ultratb.py\", line 358, in _fixed_getinnerframes\n",
            "    records = fix_frame_records_filenames(inspect.getinnerframes(etb, context))\n",
            "  File \"/usr/lib/python3.6/inspect.py\", line 1490, in getinnerframes\n",
            "    frameinfo = (tb.tb_frame,) + getframeinfo(tb, context)\n",
            "  File \"/usr/lib/python3.6/inspect.py\", line 1448, in getframeinfo\n",
            "    filename = getsourcefile(frame) or getfile(frame)\n",
            "  File \"/usr/lib/python3.6/inspect.py\", line 696, in getsourcefile\n",
            "    if getattr(getmodule(object, filename), '__loader__', None) is not None:\n",
            "  File \"/usr/lib/python3.6/inspect.py\", line 742, in getmodule\n",
            "    os.path.realpath(f)] = module.__name__\n",
            "  File \"/usr/lib/python3.6/posixpath.py\", line 395, in realpath\n",
            "    path, ok = _joinrealpath(filename[:0], filename, {})\n",
            "  File \"/usr/lib/python3.6/posixpath.py\", line 429, in _joinrealpath\n",
            "    if not islink(newpath):\n",
            "  File \"/usr/lib/python3.6/posixpath.py\", line 171, in islink\n",
            "    st = os.lstat(path)\n",
            "KeyboardInterrupt\n"
          ],
          "name": "stdout"
        },
        {
          "output_type": "error",
          "ename": "KeyboardInterrupt",
          "evalue": "ignored",
          "traceback": [
            "\u001b[0;31m---------------------------------------------------------------------------\u001b[0m"
          ]
        }
      ]
    },
    {
      "cell_type": "code",
      "metadata": {
        "colab": {
          "base_uri": "https://localhost:8080/",
          "height": 575
        },
        "id": "G-bHWM62n3Ys",
        "outputId": "e3cc7856-fd7c-4394-e129-fa3ce44a17a6"
      },
      "source": [
        "colors = cycler('color',\r\n",
        "              ['#ffc936', '#07a8d9'])\r\n",
        "plt.rc('axes', facecolor='#FFFFFF', edgecolor='none',\r\n",
        "      axisbelow=True, grid=True, prop_cycle = colors)\r\n",
        "plt.rc('grid', color='lightgray', linestyle='solid')\r\n",
        "plt.rc('patch', edgecolor='#fafafa')\r\n",
        "plt.rc('lines', linewidth=3)\r\n",
        "\r\n",
        "plt.plot(history.history[\"accuracy\"])\r\n",
        "plt.title(\"Accuracy (Character Recognition)\", fontsize = \"14\")\r\n",
        "plt.xlabel('Epoch')\r\n",
        "plt.ylabel(\"Accuracy\")\r\n",
        "plt.legend(['training'])\r\n",
        "plt.show()\r\n",
        "\r\n",
        "plt.plot(history.history[\"loss\"])\r\n",
        "plt.title(\"Loss (Character Recognition)\", fontsize = \"14\")\r\n",
        "plt.xlabel('Epoch')\r\n",
        "plt.ylabel(\"Loss\")\r\n",
        "plt.legend(['training'])\r\n",
        "plt.show();"
      ],
      "execution_count": null,
      "outputs": [
        {
          "output_type": "display_data",
          "data": {
            "image/png": "[encoded data removed]",
            "text/plain": [
              "<Figure size 432x288 with 1 Axes>"
            ]
          },
          "metadata": {
            "tags": [],
            "needs_background": "light"
          }
        },
        {
          "output_type": "display_data",
          "data": {
            "image/png": "[encoded data removed]",
            "text/plain": [
              "<Figure size 432x288 with 1 Axes>"
            ]
          },
          "metadata": {
            "tags": [],
            "needs_background": "light"
          }
        }
      ]
    },
    {
      "cell_type": "code",
      "metadata": {
        "id": "9pC4YOWusf-q"
      },
      "source": [
        "model.save(\"drive/MyDrive/script-generation-sample/script-generation-model-with-punctuation.h5\", save_format='h5')"
      ],
      "execution_count": null,
      "outputs": []
    },
    {
      "cell_type": "code",
      "metadata": {
        "id": "k26Ed_6_SDJu"
      },
      "source": [
        "model.save_weights(\"drive/MyDrive/script-generation-sample/script-generation-model-weights-with-punctuation.h5\", save_format='h5')"
      ],
      "execution_count": null,
      "outputs": []
    },
    {
      "cell_type": "code",
      "metadata": {
        "colab": {
          "base_uri": "https://localhost:8080/"
        },
        "id": "S3aTeJ49sr48",
        "outputId": "ef1d038c-5967-4647-9fa1-5dbaf66867e4"
      },
      "source": [
        "saved_model = Sequential()\r\n",
        "saved_model.add(Embedding(vocab_size, 50, input_length=x.shape[1]))\r\n",
        "saved_model.add(LSTM(256))\r\n",
        "saved_model.add(Dense(128, activation='relu'))\r\n",
        "saved_model.add(Dense(vocab_size, activation='softmax'))\r\n",
        "saved_model.load_weights(\"./drive/MyDrive/script-generation-sample/script-generation-model-weights-with-punctuation.h5\")\r\n",
        "\r\n",
        "saved_model.compile(loss = 'categorical_crossentropy', optimizer = 'adam', metrics = ['accuracy'])\r\n",
        "saved_model.summary()"
      ],
      "execution_count": null,
      "outputs": [
        {
          "output_type": "stream",
          "text": [
            "Model: \"sequential\"\n",
            "_________________________________________________________________\n",
            "Layer (type)                 Output Shape              Param #   \n",
            "=================================================================\n",
            "embedding (Embedding)        (None, 50, 50)            312950    \n",
            "_________________________________________________________________\n",
            "lstm (LSTM)                  (None, 256)               314368    \n",
            "_________________________________________________________________\n",
            "dense (Dense)                (None, 128)               32896     \n",
            "_________________________________________________________________\n",
            "dense_1 (Dense)              (None, 6259)              807411    \n",
            "=================================================================\n",
            "Total params: 1,467,625\n",
            "Trainable params: 1,467,625\n",
            "Non-trainable params: 0\n",
            "_________________________________________________________________\n"
          ],
          "name": "stdout"
        }
      ]
    },
    {
      "cell_type": "code",
      "metadata": {
        "colab": {
          "base_uri": "https://localhost:8080/"
        },
        "id": "Whjzaoq5T2VN",
        "outputId": "78f8c51c-6f4e-4df1-fe6c-523f84e08024"
      },
      "source": [
        "saved_model = tf.keras.models.load_model(\"drive/MyDrive/script-generation-sample/script-generation-model-with-punctuation.h5\")\r\n",
        "saved_model.summary()"
      ],
      "execution_count": null,
      "outputs": [
        {
          "output_type": "stream",
          "text": [
            "Model: \"sequential\"\n",
            "_________________________________________________________________\n",
            "Layer (type)                 Output Shape              Param #   \n",
            "=================================================================\n",
            "embedding (Embedding)        (None, 50, 50)            312950    \n",
            "_________________________________________________________________\n",
            "lstm (LSTM)                  (None, 256)               314368    \n",
            "_________________________________________________________________\n",
            "dense (Dense)                (None, 128)               32896     \n",
            "_________________________________________________________________\n",
            "dense_1 (Dense)              (None, 6259)              807411    \n",
            "=================================================================\n",
            "Total params: 1,467,625\n",
            "Trainable params: 1,467,625\n",
            "Non-trainable params: 0\n",
            "_________________________________________________________________\n"
          ],
          "name": "stdout"
        }
      ]
    },
    {
      "cell_type": "code",
      "metadata": {
        "id": "8HYA8ag6yarF"
      },
      "source": [
        "def generate_text_seq(model, tokenizer, text_seq_length, seed_text, n_words):\r\n",
        "  sys.stdout.write(seed_text + \"\\n\");\r\n",
        "  text = []\r\n",
        "  for _ in range(n_words):\r\n",
        "    encoded = tokenizer.texts_to_sequences([seed_text])[0]\r\n",
        "    encoded = pad_sequences([encoded], maxlen = text_seq_length, truncating='pre')\r\n",
        "    y_predict = model.predict_classes(encoded)\r\n",
        "\r\n",
        "    predicted_word = ''\r\n",
        "    for word, index in tokenizer.word_index.items():\r\n",
        "      if index == y_predict:\r\n",
        "        predicted_word = word\r\n",
        "        break\r\n",
        "    seed_text = seed_text + ' ' + predicted_word\r\n",
        "\r\n",
        "    if predicted_word in list(punctuations.values()):\r\n",
        "      predicted_word = list(punctuations.keys())[list(punctuations.values()).index(predicted_word)]\r\n",
        "\r\n",
        "    text.append(predicted_word)\r\n",
        "  return ' '.join(text)"
      ],
      "execution_count": null,
      "outputs": []
    },
    {
      "cell_type": "code",
      "metadata": {
        "colab": {
          "base_uri": "https://localhost:8080/"
        },
        "id": "t5hMM1bY3VDQ",
        "outputId": "afaff92c-4153-4477-81c4-d30476bb36a2"
      },
      "source": [
        "warnings.filterwarnings(\"ignore\") \n",
        "test_text = \"marge well leave it to good old Mary Bailey to finally step in and do something about that hideous genetic mutation homer mary bailey well if i was governor i d sure find better things to do with my time marge like what homer like getting\"\n",
        "print(generate_text_seq(saved_model, tokenizer, sequence_length, test_text, 100))\n",
        "# print(generate_text_seq(saved_model, tokenizer, sequence_length, \" \".join(tokens[120:170]), 100))"
      ],
      "execution_count": null,
      "outputs": [
        {
          "output_type": "stream",
          "text": [
            "marge well leave it to good old Mary Bailey to finally step in and do something about that hideous genetic mutation homer mary bailey well if i was governor i d sure find better things to do with my time marge like what homer like getting\n",
            "disappointed to say by my mother , buy ran his alley . \n",
            " lenny leonard : keep everyone here real optimistic literature celebrities ? ( cute ) oh , as it ' s so strong at us out from now . i don ' t think it ' s given me a beer . \n",
            " \n",
            " \n",
            " larry : oh , duff lovers ! does anyone in the only dangerous brunch spectacular . \n",
            " \n",
            " \n",
            " smitty : you know that , ain ' t that smile . \n",
            " \n",
            " \n",
            " mrs . powers : ( suddenly nervous ) you\n"
          ],
          "name": "stdout"
        }
      ]
    },
    {
      "cell_type": "code",
      "metadata": {
        "id": "gIS538ky3oxb"
      },
      "source": [
        ""
      ],
      "execution_count": null,
      "outputs": []
    }
  ]
}